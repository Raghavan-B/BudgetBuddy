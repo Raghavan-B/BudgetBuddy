{
 "cells": [
  {
   "cell_type": "code",
   "execution_count": null,
   "metadata": {},
   "outputs": [
    {
     "name": "stdout",
     "output_type": "stream",
     "text": [
      "\n",
      "1. Rent 2. Groceries 3. Shopping  4. Daily Spending 5. Loan 6. Bills 7. Others 8. Exit\n",
      "\n",
      "1. Rent 2. Groceries 3. Shopping  4. Daily Spending 5. Loan 6. Bills 7. Others 8. Exit\n",
      "\n",
      "1. Rent 2. Groceries 3. Shopping  4. Daily Spending 5. Loan 6. Bills 7. Others 8. Exit\n",
      "\n",
      "1. Rent 2. Groceries 3. Shopping  4. Daily Spending 5. Loan 6. Bills 7. Others 8. Exit\n",
      "\n",
      "1. Rent 2. Groceries 3. Shopping  4. Daily Spending 5. Loan 6. Bills 7. Others 8. Exit\n",
      "\n",
      "User Data Summary:\n",
      "Income: 30000.0\n",
      "Expenses: {'Rent': 12000.0, 'Groceries': 3000.0, 'Shopping': 4000.0, 'Daily_Spending': 2000.0, 'Loan': 0, 'Bills': 0, 'Others': 0}\n",
      "Savings Goal: 2000 2300\n",
      "Categories to Minimize: ['Groceries', 'Shopping', 'Daily_Spending']\n",
      "\n",
      "No feasible solution found. Please check your constraints.\n"
     ]
    }
   ],
   "source": []
  },
  {
   "cell_type": "code",
   "execution_count": 22,
   "metadata": {},
   "outputs": [
    {
     "name": "stdout",
     "output_type": "stream",
     "text": [
      "\n",
      "1. Rent 2. Groceries 3. Shopping  4. Daily Spending 5. Loan 6. Bills 7. Others 8. Exit\n",
      "\n",
      "1. Rent 2. Groceries 3. Shopping  4. Daily Spending 5. Loan 6. Bills 7. Others 8. Exit\n",
      "\n",
      "1. Rent 2. Groceries 3. Shopping  4. Daily Spending 5. Loan 6. Bills 7. Others 8. Exit\n",
      "\n",
      "1. Rent 2. Groceries 3. Shopping  4. Daily Spending 5. Loan 6. Bills 7. Others 8. Exit\n",
      "\n",
      "1. Rent 2. Groceries 3. Shopping  4. Daily Spending 5. Loan 6. Bills 7. Others 8. Exit\n",
      "\n",
      "1. Rent 2. Groceries 3. Shopping  4. Daily Spending 5. Loan 6. Bills 7. Others 8. Exit\n",
      "\n",
      "1. Rent 2. Groceries 3. Shopping  4. Daily Spending 5. Loan 6. Bills 7. Others 8. Exit\n",
      "\n",
      "User Data Summary:\n",
      "Income: 30000.0\n",
      "Expenses: {'Rent': 12000.0, 'Groceries': 5000.0, 'Shopping': 4000.0, 'Daily_Spending': 2500.0, 'Loan': 2000.0, 'Bills': 2300.0, 'Others': 0}\n",
      "Savings Goal: 2000.0\n",
      "Categories to Minimize: ['Groceries', 'Shopping', 'Daily_Spending']\n",
      "\n",
      "Optimized Budget:\n",
      "--------------------------------------------------\n",
      "Categories to Minimize:\n",
      "Groceries: ₹5,000.00\n",
      "Shopping: ₹1,200.00\n",
      "Daily_Spending: ₹2,500.00\n",
      "\n",
      "Other Categories:\n",
      "Rent: ₹12,000.00\n",
      "Loan: ₹2,000.00\n",
      "Bills: ₹2,300.00\n",
      "Others: ₹0.00\n",
      "--------------------------------------------------\n",
      "Total Spending: ₹25,000.00\n",
      "Savings: ₹5,000.00\n",
      "--------------------------------------------------\n",
      "Total: ₹30,000.00\n"
     ]
    }
   ],
   "source": [
    "from pulp import *\n",
    "\n",
    "def user_info():\n",
    "    income = float(input(\"Enter your total income per month (In INR): \"))\n",
    "    expense_list = [\"Rent\", \"Groceries\", \"Shopping\", \"Daily_Spending\", \"Loan\", \"Bills\", \"Others\"]\n",
    "    expense_dict = {k: 0 for k in expense_list}\n",
    "    \n",
    "    # Collect expenses from the user\n",
    "    while True:\n",
    "        print(\"\\n1. Rent 2. Groceries 3. Shopping  4. Daily Spending 5. Loan 6. Bills 7. Others 8. Exit\")\n",
    "        choice = int(input(\"Select an expense to input or Exit: \"))\n",
    "        if choice == 8:\n",
    "            break\n",
    "        elif 1 <= choice <= 7:\n",
    "            expense_name = expense_list[choice - 1]\n",
    "            amount = float(input(f\"Enter the estimated amount for {expense_name}: \"))\n",
    "            expense_dict[expense_name] = amount\n",
    "        else:\n",
    "            print(\"Invalid option. Try again.\")\n",
    "    \n",
    "    savings_goal = float(input(\"Enter the amount you want to save this month: \"))\n",
    "    min_spendings_areas = [int(i) for i in input(\"Select categories to minimize expenses (e.g., '1 3 5'): \").split()]\n",
    "    min_spendings = [expense_list[i - 1] for i in min_spendings_areas]\n",
    "    \n",
    "    print(\"\\nUser Data Summary:\")\n",
    "    print(\"Income:\", income)\n",
    "    print(\"Expenses:\", expense_dict)\n",
    "    print(\"Savings Goal:\", savings_goal)\n",
    "    print(\"Categories to Minimize:\", min_spendings)\n",
    "    \n",
    "    return income, expense_dict, min_spendings, savings_goal\n",
    "\n",
    "def optimize_budget(income, expense_dict, min_spendings, savings_goal):\n",
    "    \"\"\"\n",
    "    Optimize budget to maximize savings while respecting expense constraints\n",
    "    \n",
    "    Args:\n",
    "        income: Total monthly income\n",
    "        expense_dict: Dictionary of expense categories and their maximum amounts\n",
    "        min_spendings: List of expense categories to minimize\n",
    "        savings_goal: Minimum required savings\n",
    "    \n",
    "    Returns:\n",
    "        dict: Optimized spending amounts for each category and savings\n",
    "    \"\"\"\n",
    "    # Create the optimization problem\n",
    "    prob = LpProblem(\"Budget_Optimization\", LpMaximize)\n",
    "    \n",
    "    # Create decision variables for each expense category\n",
    "    spending_vars = {}\n",
    "    for category, max_amount in expense_dict.items():\n",
    "        if max_amount > 0:  # Only create variables for categories with non-zero maximum\n",
    "            spending_vars[category] = LpVariable(f\"spend_{category}\", 0, max_amount)\n",
    "    \n",
    "    # Create savings variable\n",
    "    savings = LpVariable(\"savings\", savings_goal, savings_goal+3000)\n",
    "    \n",
    "    # Objective: Maximize savings while minimizing selected categories\n",
    "    # We'll subtract a small portion of the minimized categories from the objective\n",
    "    optimization_expr = savings - 0.01 * lpSum(spending_vars[category] for category in min_spendings if category in spending_vars)\n",
    "    prob += optimization_expr\n",
    "    \n",
    "    # Constraints\n",
    "    \n",
    "    # Total spending + savings must equal income\n",
    "    prob += lpSum(spending_vars.values()) + savings == income\n",
    "    \n",
    "    # Minimum spending constraints (30% of maximum for essential categories)\n",
    "    essential_categories = [\"Rent\", \"Groceries\", \"Bills\", \"Loan\"]\n",
    "    for category in spending_vars:\n",
    "        if category in essential_categories:\n",
    "            min_amount = expense_dict[category] * 0.3  # 30% of maximum for essential categories\n",
    "            prob += spending_vars[category] >= min_amount\n",
    "        else:\n",
    "            min_amount = expense_dict[category] * 0.1  # 10% of maximum for non-essential categories\n",
    "            prob += spending_vars[category] >= min_amount\n",
    "    \n",
    "    # Solve the problem\n",
    "    status = prob.solve(PULP_CBC_CMD(msg=False))\n",
    "    \n",
    "    if status != 1:\n",
    "        return None\n",
    "    \n",
    "    # Get results\n",
    "    results = {\n",
    "        \"savings\": value(savings)\n",
    "    }\n",
    "    for category, var in spending_vars.items():\n",
    "        results[category] = value(var)\n",
    "    \n",
    "    # Add zero values for categories that weren't included in optimization\n",
    "    for category in expense_dict:\n",
    "        if category not in results:\n",
    "            results[category] = 0\n",
    "    \n",
    "    return results\n",
    "\n",
    "def display_results(results, min_spendings):\n",
    "    if results is None:\n",
    "        print(\"\\nNo feasible solution found. Please check your constraints.\")\n",
    "        return\n",
    "        \n",
    "    print(\"\\nOptimized Budget:\")\n",
    "    print(\"-\" * 50)\n",
    "    \n",
    "    # Print minimized categories first\n",
    "    print(\"Categories to Minimize:\")\n",
    "    total_spent = 0\n",
    "    for category in min_spendings:\n",
    "        if category in results:\n",
    "            amount = results[category]\n",
    "            print(f\"{category}: ₹{amount:,.2f}\")\n",
    "            total_spent += amount\n",
    "    \n",
    "    print(\"\\nOther Categories:\")\n",
    "    # Print other categories\n",
    "    for category, amount in results.items():\n",
    "        if category != \"savings\" and category not in min_spendings:\n",
    "            print(f\"{category}: ₹{amount:,.2f}\")\n",
    "            total_spent += amount\n",
    "    \n",
    "    print(\"-\" * 50)\n",
    "    print(f\"Total Spending: ₹{total_spent:,.2f}\")\n",
    "    print(f\"Savings: ₹{results['savings']:,.2f}\")\n",
    "    print(\"-\" * 50)\n",
    "    print(f\"Total: ₹{(total_spent + results['savings']):,.2f}\")\n",
    "\n",
    "def main():\n",
    "    try:\n",
    "        # Get user inputs\n",
    "        income, expense_dict, min_spendings, savings_goal = user_info()\n",
    "        \n",
    "        # Validate inputs\n",
    "        total_max_spending = sum(expense_dict.values())\n",
    "        if total_max_spending + savings_goal > income:\n",
    "            print(\"\\nError: Your maximum spending limits plus minimum savings exceed your income.\")\n",
    "            print(f\"Total maximum spending: ₹{total_max_spending:,.2f}\")\n",
    "            print(f\"Minimum savings: ₹{savings_goal:,.2f}\")\n",
    "            print(f\"Income: ₹{income:,.2f}\")\n",
    "            print(f\"Deficit: ₹{(total_max_spending + savings_goal - income):,.2f}\")\n",
    "            return\n",
    "        \n",
    "        # Run optimization\n",
    "        results = optimize_budget(income, expense_dict, min_spendings, savings_goal)\n",
    "        \n",
    "        # Display results\n",
    "        display_results(results, min_spendings)\n",
    "        \n",
    "    except Exception as e:\n",
    "        print(f\"\\nAn error occurred: {str(e)}\")\n",
    "        print(\"Please check your inputs and try again.\")\n",
    "\n",
    "if __name__ == \"__main__\":\n",
    "    main()"
   ]
  },
  {
   "cell_type": "code",
   "execution_count": 10,
   "metadata": {},
   "outputs": [
    {
     "data": {
      "text/plain": [
       "2024"
      ]
     },
     "execution_count": 10,
     "metadata": {},
     "output_type": "execute_result"
    }
   ],
   "source": [
    "import datetime\n",
    "year = datetime.datetime.now().year\n",
    "year"
   ]
  },
  {
   "cell_type": "code",
   "execution_count": 18,
   "metadata": {},
   "outputs": [
    {
     "name": "stdout",
     "output_type": "stream",
     "text": [
      "2024-10-30\n"
     ]
    }
   ],
   "source": [
    "print(datetime.date.today())"
   ]
  },
  {
   "cell_type": "code",
   "execution_count": 20,
   "metadata": {},
   "outputs": [],
   "source": [
    "import os\n",
    "os.chdir(\"../\")"
   ]
  },
  {
   "cell_type": "code",
   "execution_count": null,
   "metadata": {},
   "outputs": [
    {
     "name": "stdout",
     "output_type": "stream",
     "text": [
      "(30.0, 20.0, 40.0, 30.0, 40.0, 30.0, 30.0, 20.0, 10.0)\n"
     ]
    }
   ],
   "source": []
  },
  {
   "cell_type": "code",
   "execution_count": 61,
   "metadata": {},
   "outputs": [
    {
     "name": "stdout",
     "output_type": "stream",
     "text": [
      "{'savings': 20.0, 'rent': 40.0, 'groceries': 30.0, 'shopping': 40.0, 'daily_spending': 30.0, 'loan': 30.0, 'bills': 20.0, 'other_expenses': 10.0}\n"
     ]
    }
   ],
   "source": [
    "columns = [\"income\",\"savings\",\"rent\",\"groceries\",\"shopping\",\"daily_spending\",\"loan\",\"bills\",\"other_expenses\"]\n",
    "income = user[0]\n",
    "optimal_budget = {}\n",
    "for i in range(1,len(user)):\n",
    "    optimal_budget[columns[i]] = user[i]\n",
    "print(optimal_budget)"
   ]
  },
  {
   "cell_type": "code",
   "execution_count": 53,
   "metadata": {},
   "outputs": [
    {
     "data": {
      "text/plain": [
       "'income,savings,rent,groceries,shopping,daily_spending,loan,bills,other_expenses'"
      ]
     },
     "execution_count": 53,
     "metadata": {},
     "output_type": "execute_result"
    }
   ],
   "source": [
    "columns = [\"income\",\"savings\",\"rent\",\"groceries\",\"shopping\",\"daily_spending\",\"loan\",\"bills\",\"other_expenses\"]\n",
    "','.join(columns)"
   ]
  },
  {
   "cell_type": "code",
   "execution_count": 67,
   "metadata": {},
   "outputs": [
    {
     "data": {
      "text/plain": [
       "datetime.date(2024, 10, 31)"
      ]
     },
     "execution_count": 67,
     "metadata": {},
     "output_type": "execute_result"
    }
   ],
   "source": [
    "datetime.date.today()"
   ]
  },
  {
   "cell_type": "code",
   "execution_count": 1,
   "metadata": {},
   "outputs": [],
   "source": [
    "from typing import Dict, List, Optional\n",
    "from pulp import *\n",
    "import logging\n",
    "\n",
    "class BudgetOptimizer:\n",
    "    def __init__(self):\n",
    "        self.expense_categories = [\n",
    "            \"Rent\", \"Groceries\", \"Shopping\", \"Daily_spending\",\n",
    "            \"Loan\", \"Bills\", \"Others\"\n",
    "        ]\n",
    "        # Set up logging\n",
    "        logging.basicConfig(level=logging.INFO)\n",
    "        self.logger = logging.getLogger(__name__)\n",
    "        \n",
    "    def validate_inputs(self, income: float, expense_dict: Dict[str, float], \n",
    "                       min_spendings: List[str], savings_goal: float) -> bool:\n",
    "        \"\"\"Validate input parameters before optimization.\"\"\"\n",
    "        try:\n",
    "            # Check if income is positive\n",
    "            if income <= 0:\n",
    "                self.logger.error(\"Income must be positive\")\n",
    "                return False\n",
    "                \n",
    "            # Check if expense dictionary contains valid categories\n",
    "            if not all(category in self.expense_categories for category in expense_dict):\n",
    "                self.logger.error(\"Invalid expense categories found\")\n",
    "                return False\n",
    "                \n",
    "            # Check if minimum spending categories exist in expense dict\n",
    "            if not all(category in expense_dict for category in min_spendings):\n",
    "                self.logger.error(\"Minimum spending categories must exist in expense dictionary\")\n",
    "                return False\n",
    "                \n",
    "            # Check if savings goal + extra savings buffer is feasible\n",
    "            total_min_expenses = sum(amount * 0.3 for category, amount in expense_dict.items() \n",
    "                                   if category in [\"Rent\", \"Groceries\", \"Bills\", \"Loan\"]) + \\\n",
    "                               sum(amount * 0.1 for category, amount in expense_dict.items() \n",
    "                                   if category not in [\"Rent\", \"Groceries\", \"Bills\", \"Loan\"])\n",
    "            if total_min_expenses + savings_goal + 500 > income:\n",
    "                self.logger.error(\"Savings goal plus buffer is not feasible with given constraints\")\n",
    "                return False\n",
    "                \n",
    "            return True\n",
    "            \n",
    "        except Exception as e:\n",
    "            self.logger.error(f\"Input validation failed: {str(e)}\")\n",
    "            return False\n",
    "\n",
    "    def optimize_budget(\n",
    "        self,\n",
    "        income: float,\n",
    "        expense_dict: Dict[str, float],\n",
    "        min_spendings: List[str],\n",
    "        savings_goal: float\n",
    "    ) -> Optional[Dict[str, float]]:\n",
    "        \"\"\"\n",
    "        Optimize budget to maximize savings while respecting expense constraints\n",
    "        \n",
    "        Args:\n",
    "            income: Total monthly income\n",
    "            expense_dict: Dictionary of expense categories and their maximum amounts\n",
    "            min_spendings: List of expense categories to minimize\n",
    "            savings_goal: Minimum required savings\n",
    "        \n",
    "        Returns:\n",
    "            dict: Optimized spending amounts for each category and savings\n",
    "        \"\"\"\n",
    "        try:\n",
    "            # Validate inputs\n",
    "            if not self.validate_inputs(income, expense_dict, min_spendings, savings_goal):\n",
    "                return None\n",
    "\n",
    "            # Create the optimization problem\n",
    "            prob = LpProblem(\"Budget_Optimization\", LpMinimize)\n",
    "            \n",
    "            # Create decision variables for each expense category\n",
    "            spending_vars = {}\n",
    "            for category, max_amount in expense_dict.items():\n",
    "                if max_amount > 0:\n",
    "                    spending_vars[category] = LpVariable(f\"spend_{category}\", 0, max_amount)\n",
    "            \n",
    "            # Create savings variable with upper bound of savings_goal + 500\n",
    "            savings = LpVariable(\"savings\", savings_goal, income)\n",
    "            \n",
    "            # Objective: Maximize savings while minimizing selected categories\n",
    "            optimization_expr = savings - 0.01 * lpSum(\n",
    "                spending_vars[category] for category in min_spendings if category in spending_vars\n",
    "            )\n",
    "            prob += optimization_expr\n",
    "            \n",
    "            # Constraint: Total spending + savings must equal income\n",
    "            prob += lpSum(spending_vars.values()) + savings == income, \"Income_Balance\"\n",
    "            \n",
    "            # Minimum spending constraints\n",
    "            essential_categories = [\"Rent\", \"Groceries\", \"Bills\", \"Loan\"]\n",
    "            for category in spending_vars:\n",
    "                if category in essential_categories:\n",
    "                    min_amount = expense_dict[category] * 0.3  # 30% of maximum for essential\n",
    "                    prob += spending_vars[category] >= min_amount, f\"Min_{category}\"\n",
    "                else:\n",
    "                    min_amount = expense_dict[category] * 0.1  # 10% of maximum for non-essential\n",
    "                    prob += spending_vars[category] >= min_amount, f\"Min_{category}\"\n",
    "            \n",
    "            # Solve the problem\n",
    "            solver = PULP_CBC_CMD(msg=False)\n",
    "            status = prob.solve(solver)\n",
    "            \n",
    "            if status != 1:\n",
    "                self.logger.error(f\"Optimization failed with status: {status}\")\n",
    "                return None\n",
    "            \n",
    "            # Get results\n",
    "            results = {\"Savings\": value(savings)}\n",
    "            for category, var in spending_vars.items():\n",
    "                results[category] = round(value(var), 2)\n",
    "            \n",
    "            # Add zero values for categories that weren't included\n",
    "            for category in expense_dict:\n",
    "                if category not in results:\n",
    "                    results[category] = 0\n",
    "            \n",
    "            self.logger.info(\"Budget optimization completed successfully\")\n",
    "            return results\n",
    "            \n",
    "        except Exception as e:\n",
    "            self.logger.error(f\"Budget optimization failed: {str(e)}\")\n",
    "            return None"
   ]
  },
  {
   "cell_type": "code",
   "execution_count": 15,
   "metadata": {},
   "outputs": [
    {
     "name": "stdout",
     "output_type": "stream",
     "text": [
      "{'Savings': 1000.0, 'Rent': 30000.0, 'Groceries': 5000.0, 'Shopping': 600.0, 'Daily_spending': 1800.0, 'Loan': 1000.0, 'Bills': 600.0, 'Others': 0}\n"
     ]
    }
   ],
   "source": [
    "# from utils.optimal_budget_utils import BudgetOptimizer\n",
    "income = 40000\n",
    "expenses_dict = {\n",
    "    \"Rent\":30000,\n",
    "    \"Groceries\": 6000,\n",
    "    \"Shopping\": 1000,\n",
    "    \"Daily_spending\": 1800,\n",
    "    \"Loan\": 1000,\n",
    "    \"Bills\": 600,\n",
    "    \"Others\":0\n",
    "}\n",
    "savings = 1000\n",
    "min_spendings = [\"Groceries\", \"Shopping\", \"Daily_spending\"]\n",
    "bo = BudgetOptimizer()\n",
    "results = bo.optimize_budget(income=income,expense_dict=expenses_dict,min_spendings=min_spendings,savings_goal=savings)\n",
    "print(results)"
   ]
  },
  {
   "cell_type": "code",
   "execution_count": 47,
   "metadata": {},
   "outputs": [],
   "source": [
    "\n",
    "class BudgetOptimizer:\n",
    "    def __init__(self):\n",
    "        self.expense_categories = [\n",
    "            \"Rent\", \"Groceries\", \"Shopping\", \"Daily_spending\",\n",
    "            \"Loan\", \"Bills\", \"Others\"\n",
    "        ]\n",
    "        \n",
    "    def optimize_budget(\n",
    "        self,\n",
    "        income: float,\n",
    "        expense_dict: Dict[str, float],\n",
    "        min_spendings: List[str],\n",
    "        savings_goal: float\n",
    "    ) -> Optional[Dict[str, float]]:\n",
    "        \"\"\"\n",
    "        Optimize budget to maximize savings while respecting expense constraints\n",
    "        \n",
    "        Args:\n",
    "            income: Total monthly income\n",
    "            expense_dict: Dictionary of expense categories and their maximum amounts\n",
    "            min_spendings: List of expense categories to minimize\n",
    "            savings_goal: Minimum required savings\n",
    "        \n",
    "        Returns:\n",
    "            dict: Optimized spending amounts for each category and savings\n",
    "        \"\"\"\n",
    "        # Create the optimization problem\n",
    "        prob = LpProblem(\"Budget_Optimization\", LpMaximize)\n",
    "        \n",
    "        # Create decision variables for each expense category\n",
    "        spending_vars = {}\n",
    "        for category, max_amount in expense_dict.items():\n",
    "            if max_amount > 0:\n",
    "                spending_vars[category] = LpVariable(f\"spend_{category}\", 0, max_amount)\n",
    "        \n",
    "        # Create savings variable\n",
    "        savings = LpVariable(\"savings\", savings_goal)  # Allow for higher savings\n",
    "        \n",
    "        # Objective: Maximize savings while minimizing selected categories\n",
    "        optimization_expr = savings - 0.01 * lpSum(\n",
    "            spending_vars[category] for category in min_spendings if category in spending_vars\n",
    "        )\n",
    "        prob += optimization_expr\n",
    "        \n",
    "        # Constraint: Total spending + savings must equal income\n",
    "        prob += lpSum(spending_vars.values()) + savings == income\n",
    "        \n",
    "        # Minimum spending constraints\n",
    "        essential_categories = [\"Rent\", \"Groceries\", \"Bills\", \"Loan\"]\n",
    "        for category in spending_vars:\n",
    "            if category in essential_categories:\n",
    "                min_amount = expense_dict[category]   # 30% of maximum for essential\n",
    "                prob += spending_vars[category] >= min_amount\n",
    "            else:\n",
    "                min_amount = expense_dict[category] *0.5  # 10% of maximum for non-essential\n",
    "                prob += spending_vars[category] >= min_amount\n",
    "        \n",
    "        # Solve the problem\n",
    "        status = prob.solve(PULP_CBC_CMD(msg=False))\n",
    "        \n",
    "        if status != 1:\n",
    "            return None\n",
    "        \n",
    "        # Get results\n",
    "        results = {\"Savings\": value(savings)}\n",
    "        for category, var in spending_vars.items():\n",
    "            results[category] = round(value(var), 2)\n",
    "        \n",
    "        # Add zero values for categories that weren't included\n",
    "        for category in expense_dict:\n",
    "            if category not in results:\n",
    "                results[category] = 0\n",
    "                \n",
    "        return results"
   ]
  },
  {
   "cell_type": "code",
   "execution_count": 48,
   "metadata": {},
   "outputs": [
    {
     "name": "stdout",
     "output_type": "stream",
     "text": [
      "{'Savings': 3450.0, 'Rent': 23200.0, 'Groceries': 5000.0, 'Shopping': 2000.0, 'Daily_spending': 900.0, 'Loan': 2900.0, 'Bills': 2000.0, 'Others': 550.0}\n"
     ]
    }
   ],
   "source": [
    "# from utils.optimal_budget_utils import BudgetOptimizer\n",
    "income = 40000\n",
    "expenses_dict = {\n",
    "    \"Rent\":23200,\n",
    "    \"Groceries\": 5000,\n",
    "    \"Shopping\": 4000,\n",
    "    \"Daily_spending\": 1800,\n",
    "    \"Loan\": 2900,\n",
    "    \"Bills\": 2000,\n",
    "    \"Others\":1100\n",
    "}\n",
    "savings = 1000\n",
    "min_spendings = [\"Others\", \"Shopping\", \"Daily_spending\"]\n",
    "bo = BudgetOptimizer()\n",
    "results = bo.optimize_budget(income=income,expense_dict=expenses_dict,min_spendings=min_spendings,savings_goal=savings)\n",
    "print(results)"
   ]
  },
  {
   "cell_type": "code",
   "execution_count": 2,
   "metadata": {},
   "outputs": [],
   "source": [
    "import os\n",
    "os.chdir(\"../\")"
   ]
  },
  {
   "cell_type": "code",
   "execution_count": 3,
   "metadata": {},
   "outputs": [
    {
     "ename": "DatabaseError",
     "evalue": "2017 (HY000): Can't open named pipe to host: .  pipe: MySQL (2)",
     "output_type": "error",
     "traceback": [
      "\u001b[1;31m---------------------------------------------------------------------------\u001b[0m",
      "\u001b[1;31mMySQLInterfaceError\u001b[0m                       Traceback (most recent call last)",
      "File \u001b[1;32mc:\\Users\\Raghavan\\Documents\\BudgetBuddy\\venv\\lib\\site-packages\\mysql\\connector\\connection_cext.py:335\u001b[0m, in \u001b[0;36mCMySQLConnection._open_connection\u001b[1;34m(self)\u001b[0m\n\u001b[0;32m    334\u001b[0m \u001b[38;5;28;01mtry\u001b[39;00m:\n\u001b[1;32m--> 335\u001b[0m     \u001b[38;5;28mself\u001b[39m\u001b[38;5;241m.\u001b[39m_cmysql\u001b[38;5;241m.\u001b[39mconnect(\u001b[38;5;241m*\u001b[39m\u001b[38;5;241m*\u001b[39mcnx_kwargs)\n\u001b[0;32m    336\u001b[0m     \u001b[38;5;28mself\u001b[39m\u001b[38;5;241m.\u001b[39m_cmysql\u001b[38;5;241m.\u001b[39mconverter_str_fallback \u001b[38;5;241m=\u001b[39m \u001b[38;5;28mself\u001b[39m\u001b[38;5;241m.\u001b[39m_converter_str_fallback\n",
      "\u001b[1;31mMySQLInterfaceError\u001b[0m: Can't open named pipe to host: .  pipe: MySQL (2)",
      "\nThe above exception was the direct cause of the following exception:\n",
      "\u001b[1;31mDatabaseError\u001b[0m                             Traceback (most recent call last)",
      "Cell \u001b[1;32mIn[3], line 5\u001b[0m\n\u001b[0;32m      3\u001b[0m month \u001b[38;5;241m=\u001b[39m datetime\u001b[38;5;241m.\u001b[39mdatetime\u001b[38;5;241m.\u001b[39mmonth\n\u001b[0;32m      4\u001b[0m year \u001b[38;5;241m=\u001b[39m datetime\u001b[38;5;241m.\u001b[39mdatetime\u001b[38;5;241m.\u001b[39myear\n\u001b[1;32m----> 5\u001b[0m conn \u001b[38;5;241m=\u001b[39m \u001b[43mget_connection\u001b[49m\u001b[43m(\u001b[49m\u001b[43m)\u001b[49m\n\u001b[0;32m      6\u001b[0m cursor \u001b[38;5;241m=\u001b[39m conn\u001b[38;5;241m.\u001b[39mcursor()\n\u001b[0;32m      7\u001b[0m query \u001b[38;5;241m=\u001b[39m \u001b[38;5;124mf\u001b[39m\u001b[38;5;124m\"\"\"\u001b[39m\n\u001b[0;32m      8\u001b[0m \u001b[38;5;124mSELECT rent+groceries+shopping+daily_spending+loan+bills+other_expenses AS cum_expense,tracked_date  \u001b[39m\n\u001b[0;32m      9\u001b[0m \u001b[38;5;124mfrom tracker \u001b[39m\n\u001b[0;32m     10\u001b[0m \u001b[38;5;124mWHERE MONTH(tracked_date)=\u001b[39m\u001b[38;5;132;01m{\u001b[39;00mmonth\u001b[38;5;132;01m}\u001b[39;00m\u001b[38;5;124m AND YEAR(tracked_date) = \u001b[39m\u001b[38;5;132;01m{\u001b[39;00myear\u001b[38;5;132;01m}\u001b[39;00m\n\u001b[0;32m     11\u001b[0m \u001b[38;5;124m\"\"\"\u001b[39m\n",
      "File \u001b[1;32mc:\\Users\\Raghavan\\Documents\\BudgetBuddy\\database\\db_config.py:15\u001b[0m, in \u001b[0;36mget_connection\u001b[1;34m()\u001b[0m\n\u001b[0;32m     14\u001b[0m \u001b[38;5;28;01mdef\u001b[39;00m \u001b[38;5;21mget_connection\u001b[39m():\n\u001b[1;32m---> 15\u001b[0m     conn \u001b[38;5;241m=\u001b[39m  mysql\u001b[38;5;241m.\u001b[39mconnector\u001b[38;5;241m.\u001b[39mconnect(\u001b[38;5;241m*\u001b[39m\u001b[38;5;241m*\u001b[39mDB_CONFIG)\n\u001b[0;32m     16\u001b[0m     \u001b[38;5;28;01mreturn\u001b[39;00m conn\n",
      "File \u001b[1;32mc:\\Users\\Raghavan\\Documents\\BudgetBuddy\\venv\\lib\\site-packages\\mysql\\connector\\pooling.py:322\u001b[0m, in \u001b[0;36mconnect\u001b[1;34m(*args, **kwargs)\u001b[0m\n\u001b[0;32m    319\u001b[0m         \u001b[38;5;28;01mraise\u001b[39;00m \u001b[38;5;167;01mImportError\u001b[39;00m(ERROR_NO_CEXT)\n\u001b[0;32m    321\u001b[0m \u001b[38;5;28;01mif\u001b[39;00m CMySQLConnection \u001b[38;5;129;01mand\u001b[39;00m \u001b[38;5;129;01mnot\u001b[39;00m use_pure:\n\u001b[1;32m--> 322\u001b[0m     \u001b[38;5;28;01mreturn\u001b[39;00m CMySQLConnection(\u001b[38;5;241m*\u001b[39margs, \u001b[38;5;241m*\u001b[39m\u001b[38;5;241m*\u001b[39mkwargs)\n\u001b[0;32m    323\u001b[0m \u001b[38;5;28;01mreturn\u001b[39;00m MySQLConnection(\u001b[38;5;241m*\u001b[39margs, \u001b[38;5;241m*\u001b[39m\u001b[38;5;241m*\u001b[39mkwargs)\n",
      "File \u001b[1;32mc:\\Users\\Raghavan\\Documents\\BudgetBuddy\\venv\\lib\\site-packages\\mysql\\connector\\connection_cext.py:151\u001b[0m, in \u001b[0;36mCMySQLConnection.__init__\u001b[1;34m(self, **kwargs)\u001b[0m\n\u001b[0;32m    149\u001b[0m \u001b[38;5;28;01mif\u001b[39;00m kwargs:\n\u001b[0;32m    150\u001b[0m     \u001b[38;5;28;01mtry\u001b[39;00m:\n\u001b[1;32m--> 151\u001b[0m         \u001b[38;5;28mself\u001b[39m\u001b[38;5;241m.\u001b[39mconnect(\u001b[38;5;241m*\u001b[39m\u001b[38;5;241m*\u001b[39mkwargs)\n\u001b[0;32m    152\u001b[0m     \u001b[38;5;28;01mexcept\u001b[39;00m \u001b[38;5;167;01mException\u001b[39;00m:\n\u001b[0;32m    153\u001b[0m         \u001b[38;5;28mself\u001b[39m\u001b[38;5;241m.\u001b[39mclose()\n",
      "File \u001b[1;32mc:\\Users\\Raghavan\\Documents\\BudgetBuddy\\venv\\lib\\site-packages\\mysql\\connector\\abstracts.py:1426\u001b[0m, in \u001b[0;36mMySQLConnectionAbstract.connect\u001b[1;34m(self, **kwargs)\u001b[0m\n\u001b[0;32m   1423\u001b[0m     \u001b[38;5;28mself\u001b[39m\u001b[38;5;241m.\u001b[39mconfig(\u001b[38;5;241m*\u001b[39m\u001b[38;5;241m*\u001b[39mkwargs)\n\u001b[0;32m   1425\u001b[0m \u001b[38;5;28mself\u001b[39m\u001b[38;5;241m.\u001b[39mdisconnect()\n\u001b[1;32m-> 1426\u001b[0m \u001b[38;5;28;43mself\u001b[39;49m\u001b[38;5;241;43m.\u001b[39;49m\u001b[43m_open_connection\u001b[49m\u001b[43m(\u001b[49m\u001b[43m)\u001b[49m\n\u001b[0;32m   1428\u001b[0m charset, collation \u001b[38;5;241m=\u001b[39m (\n\u001b[0;32m   1429\u001b[0m     kwargs\u001b[38;5;241m.\u001b[39mpop(\u001b[38;5;124m\"\u001b[39m\u001b[38;5;124mcharset\u001b[39m\u001b[38;5;124m\"\u001b[39m, \u001b[38;5;28;01mNone\u001b[39;00m),\n\u001b[0;32m   1430\u001b[0m     kwargs\u001b[38;5;241m.\u001b[39mpop(\u001b[38;5;124m\"\u001b[39m\u001b[38;5;124mcollation\u001b[39m\u001b[38;5;124m\"\u001b[39m, \u001b[38;5;28;01mNone\u001b[39;00m),\n\u001b[0;32m   1431\u001b[0m )\n\u001b[0;32m   1432\u001b[0m \u001b[38;5;28;01mif\u001b[39;00m charset \u001b[38;5;129;01mor\u001b[39;00m collation:\n",
      "File \u001b[1;32mc:\\Users\\Raghavan\\Documents\\BudgetBuddy\\venv\\lib\\site-packages\\mysql\\connector\\connection_cext.py:340\u001b[0m, in \u001b[0;36mCMySQLConnection._open_connection\u001b[1;34m(self)\u001b[0m\n\u001b[0;32m    338\u001b[0m         \u001b[38;5;28mself\u001b[39m\u001b[38;5;241m.\u001b[39mconverter\u001b[38;5;241m.\u001b[39mstr_fallback \u001b[38;5;241m=\u001b[39m \u001b[38;5;28mself\u001b[39m\u001b[38;5;241m.\u001b[39m_converter_str_fallback\n\u001b[0;32m    339\u001b[0m \u001b[38;5;28;01mexcept\u001b[39;00m MySQLInterfaceError \u001b[38;5;28;01mas\u001b[39;00m err:\n\u001b[1;32m--> 340\u001b[0m     \u001b[38;5;28;01mraise\u001b[39;00m get_mysql_exception(\n\u001b[0;32m    341\u001b[0m         msg\u001b[38;5;241m=\u001b[39merr\u001b[38;5;241m.\u001b[39mmsg, errno\u001b[38;5;241m=\u001b[39merr\u001b[38;5;241m.\u001b[39merrno, sqlstate\u001b[38;5;241m=\u001b[39merr\u001b[38;5;241m.\u001b[39msqlstate\n\u001b[0;32m    342\u001b[0m     ) \u001b[38;5;28;01mfrom\u001b[39;00m \u001b[38;5;21;01merr\u001b[39;00m\n\u001b[0;32m    344\u001b[0m \u001b[38;5;28mself\u001b[39m\u001b[38;5;241m.\u001b[39m_do_handshake()\n\u001b[0;32m    346\u001b[0m \u001b[38;5;28;01mif\u001b[39;00m (\n\u001b[0;32m    347\u001b[0m     \u001b[38;5;129;01mnot\u001b[39;00m \u001b[38;5;28mself\u001b[39m\u001b[38;5;241m.\u001b[39m_ssl_disabled\n\u001b[0;32m    348\u001b[0m     \u001b[38;5;129;01mand\u001b[39;00m \u001b[38;5;28mhasattr\u001b[39m(\u001b[38;5;28mself\u001b[39m\u001b[38;5;241m.\u001b[39m_cmysql, \u001b[38;5;124m\"\u001b[39m\u001b[38;5;124mget_ssl_cipher\u001b[39m\u001b[38;5;124m\"\u001b[39m)\n\u001b[1;32m   (...)\u001b[0m\n\u001b[0;32m    353\u001b[0m \n\u001b[0;32m    354\u001b[0m     \u001b[38;5;66;03m# `get_ssl_cipher()` returns the name of the cipher being used.\u001b[39;00m\n",
      "\u001b[1;31mDatabaseError\u001b[0m: 2017 (HY000): Can't open named pipe to host: .  pipe: MySQL (2)"
     ]
    }
   ],
   "source": [
    "import datetime\n",
    "from database.db_config import get_connection\n",
    "month = datetime.datetime.month\n",
    "year = datetime.datetime.year\n",
    "conn = get_connection()\n",
    "cursor = conn.cursor()\n",
    "query = f\"\"\"\n",
    "SELECT rent+groceries+shopping+daily_spending+loan+bills+other_expenses AS cum_expense,tracked_date  \n",
    "from tracker \n",
    "WHERE MONTH(tracked_date)={month} AND YEAR(tracked_date) = {year}\n",
    "\"\"\"\n",
    "data = cursor.execute(query)\n",
    "data"
   ]
  },
  {
   "cell_type": "code",
   "execution_count": 51,
   "metadata": {},
   "outputs": [
    {
     "data": {
      "text/plain": [
       "{'x1': 3, 'x2': 5}"
      ]
     },
     "execution_count": 51,
     "metadata": {},
     "output_type": "execute_result"
    }
   ],
   "source": [
    "dict1"
   ]
  },
  {
   "cell_type": "code",
   "execution_count": 3,
   "metadata": {},
   "outputs": [],
   "source": [
    "import os \n",
    "os.chdir('../')"
   ]
  },
  {
   "cell_type": "code",
   "execution_count": null,
   "metadata": {},
   "outputs": [],
   "source": []
  },
  {
   "cell_type": "code",
   "execution_count": null,
   "metadata": {},
   "outputs": [
    {
     "data": {
      "text/plain": [
       "[(11400.0, 0.0, 0.0, 0.0, 0.0, 0.0, 0.0, 2024, 11)]"
      ]
     },
     "execution_count": 15,
     "metadata": {},
     "output_type": "execute_result"
    }
   ],
   "source": []
  },
  {
   "cell_type": "code",
   "execution_count": null,
   "metadata": {},
   "outputs": [],
   "source": []
  }
 ],
 "metadata": {
  "kernelspec": {
   "display_name": "Python 3",
   "language": "python",
   "name": "python3"
  },
  "language_info": {
   "codemirror_mode": {
    "name": "ipython",
    "version": 3
   },
   "file_extension": ".py",
   "mimetype": "text/x-python",
   "name": "python",
   "nbconvert_exporter": "python",
   "pygments_lexer": "ipython3",
   "version": "3.10.15"
  }
 },
 "nbformat": 4,
 "nbformat_minor": 2
}
