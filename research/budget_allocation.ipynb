{
 "cells": [
  {
   "cell_type": "code",
   "execution_count": null,
   "metadata": {},
   "outputs": [
    {
     "name": "stdout",
     "output_type": "stream",
     "text": [
      "\n",
      "1. Rent 2. Groceries 3. Shopping  4. Daily Spending 5. Loan 6. Bills 7. Others 8. Exit\n",
      "\n",
      "1. Rent 2. Groceries 3. Shopping  4. Daily Spending 5. Loan 6. Bills 7. Others 8. Exit\n",
      "\n",
      "1. Rent 2. Groceries 3. Shopping  4. Daily Spending 5. Loan 6. Bills 7. Others 8. Exit\n",
      "\n",
      "1. Rent 2. Groceries 3. Shopping  4. Daily Spending 5. Loan 6. Bills 7. Others 8. Exit\n",
      "\n",
      "1. Rent 2. Groceries 3. Shopping  4. Daily Spending 5. Loan 6. Bills 7. Others 8. Exit\n",
      "\n",
      "User Data Summary:\n",
      "Income: 30000.0\n",
      "Expenses: {'Rent': 12000.0, 'Groceries': 3000.0, 'Shopping': 4000.0, 'Daily_Spending': 2000.0, 'Loan': 0, 'Bills': 0, 'Others': 0}\n",
      "Savings Goal: 2000 2300\n",
      "Categories to Minimize: ['Groceries', 'Shopping', 'Daily_Spending']\n",
      "\n",
      "No feasible solution found. Please check your constraints.\n"
     ]
    }
   ],
   "source": []
  },
  {
   "cell_type": "code",
   "execution_count": 22,
   "metadata": {},
   "outputs": [
    {
     "name": "stdout",
     "output_type": "stream",
     "text": [
      "\n",
      "1. Rent 2. Groceries 3. Shopping  4. Daily Spending 5. Loan 6. Bills 7. Others 8. Exit\n",
      "\n",
      "1. Rent 2. Groceries 3. Shopping  4. Daily Spending 5. Loan 6. Bills 7. Others 8. Exit\n",
      "\n",
      "1. Rent 2. Groceries 3. Shopping  4. Daily Spending 5. Loan 6. Bills 7. Others 8. Exit\n",
      "\n",
      "1. Rent 2. Groceries 3. Shopping  4. Daily Spending 5. Loan 6. Bills 7. Others 8. Exit\n",
      "\n",
      "1. Rent 2. Groceries 3. Shopping  4. Daily Spending 5. Loan 6. Bills 7. Others 8. Exit\n",
      "\n",
      "1. Rent 2. Groceries 3. Shopping  4. Daily Spending 5. Loan 6. Bills 7. Others 8. Exit\n",
      "\n",
      "1. Rent 2. Groceries 3. Shopping  4. Daily Spending 5. Loan 6. Bills 7. Others 8. Exit\n",
      "\n",
      "User Data Summary:\n",
      "Income: 30000.0\n",
      "Expenses: {'Rent': 12000.0, 'Groceries': 5000.0, 'Shopping': 4000.0, 'Daily_Spending': 2500.0, 'Loan': 2000.0, 'Bills': 2300.0, 'Others': 0}\n",
      "Savings Goal: 2000.0\n",
      "Categories to Minimize: ['Groceries', 'Shopping', 'Daily_Spending']\n",
      "\n",
      "Optimized Budget:\n",
      "--------------------------------------------------\n",
      "Categories to Minimize:\n",
      "Groceries: ₹5,000.00\n",
      "Shopping: ₹1,200.00\n",
      "Daily_Spending: ₹2,500.00\n",
      "\n",
      "Other Categories:\n",
      "Rent: ₹12,000.00\n",
      "Loan: ₹2,000.00\n",
      "Bills: ₹2,300.00\n",
      "Others: ₹0.00\n",
      "--------------------------------------------------\n",
      "Total Spending: ₹25,000.00\n",
      "Savings: ₹5,000.00\n",
      "--------------------------------------------------\n",
      "Total: ₹30,000.00\n"
     ]
    }
   ],
   "source": [
    "from pulp import *\n",
    "\n",
    "def user_info():\n",
    "    income = float(input(\"Enter your total income per month (In INR): \"))\n",
    "    expense_list = [\"Rent\", \"Groceries\", \"Shopping\", \"Daily_Spending\", \"Loan\", \"Bills\", \"Others\"]\n",
    "    expense_dict = {k: 0 for k in expense_list}\n",
    "    \n",
    "    # Collect expenses from the user\n",
    "    while True:\n",
    "        print(\"\\n1. Rent 2. Groceries 3. Shopping  4. Daily Spending 5. Loan 6. Bills 7. Others 8. Exit\")\n",
    "        choice = int(input(\"Select an expense to input or Exit: \"))\n",
    "        if choice == 8:\n",
    "            break\n",
    "        elif 1 <= choice <= 7:\n",
    "            expense_name = expense_list[choice - 1]\n",
    "            amount = float(input(f\"Enter the estimated amount for {expense_name}: \"))\n",
    "            expense_dict[expense_name] = amount\n",
    "        else:\n",
    "            print(\"Invalid option. Try again.\")\n",
    "    \n",
    "    savings_goal = float(input(\"Enter the amount you want to save this month: \"))\n",
    "    min_spendings_areas = [int(i) for i in input(\"Select categories to minimize expenses (e.g., '1 3 5'): \").split()]\n",
    "    min_spendings = [expense_list[i - 1] for i in min_spendings_areas]\n",
    "    \n",
    "    print(\"\\nUser Data Summary:\")\n",
    "    print(\"Income:\", income)\n",
    "    print(\"Expenses:\", expense_dict)\n",
    "    print(\"Savings Goal:\", savings_goal)\n",
    "    print(\"Categories to Minimize:\", min_spendings)\n",
    "    \n",
    "    return income, expense_dict, min_spendings, savings_goal\n",
    "\n",
    "def optimize_budget(income, expense_dict, min_spendings, savings_goal):\n",
    "    \"\"\"\n",
    "    Optimize budget to maximize savings while respecting expense constraints\n",
    "    \n",
    "    Args:\n",
    "        income: Total monthly income\n",
    "        expense_dict: Dictionary of expense categories and their maximum amounts\n",
    "        min_spendings: List of expense categories to minimize\n",
    "        savings_goal: Minimum required savings\n",
    "    \n",
    "    Returns:\n",
    "        dict: Optimized spending amounts for each category and savings\n",
    "    \"\"\"\n",
    "    # Create the optimization problem\n",
    "    prob = LpProblem(\"Budget_Optimization\", LpMaximize)\n",
    "    \n",
    "    # Create decision variables for each expense category\n",
    "    spending_vars = {}\n",
    "    for category, max_amount in expense_dict.items():\n",
    "        if max_amount > 0:  # Only create variables for categories with non-zero maximum\n",
    "            spending_vars[category] = LpVariable(f\"spend_{category}\", 0, max_amount)\n",
    "    \n",
    "    # Create savings variable\n",
    "    savings = LpVariable(\"savings\", savings_goal, savings_goal+3000)\n",
    "    \n",
    "    # Objective: Maximize savings while minimizing selected categories\n",
    "    # We'll subtract a small portion of the minimized categories from the objective\n",
    "    optimization_expr = savings - 0.01 * lpSum(spending_vars[category] for category in min_spendings if category in spending_vars)\n",
    "    prob += optimization_expr\n",
    "    \n",
    "    # Constraints\n",
    "    \n",
    "    # Total spending + savings must equal income\n",
    "    prob += lpSum(spending_vars.values()) + savings == income\n",
    "    \n",
    "    # Minimum spending constraints (30% of maximum for essential categories)\n",
    "    essential_categories = [\"Rent\", \"Groceries\", \"Bills\", \"Loan\"]\n",
    "    for category in spending_vars:\n",
    "        if category in essential_categories:\n",
    "            min_amount = expense_dict[category] * 0.3  # 30% of maximum for essential categories\n",
    "            prob += spending_vars[category] >= min_amount\n",
    "        else:\n",
    "            min_amount = expense_dict[category] * 0.1  # 10% of maximum for non-essential categories\n",
    "            prob += spending_vars[category] >= min_amount\n",
    "    \n",
    "    # Solve the problem\n",
    "    status = prob.solve(PULP_CBC_CMD(msg=False))\n",
    "    \n",
    "    if status != 1:\n",
    "        return None\n",
    "    \n",
    "    # Get results\n",
    "    results = {\n",
    "        \"savings\": value(savings)\n",
    "    }\n",
    "    for category, var in spending_vars.items():\n",
    "        results[category] = value(var)\n",
    "    \n",
    "    # Add zero values for categories that weren't included in optimization\n",
    "    for category in expense_dict:\n",
    "        if category not in results:\n",
    "            results[category] = 0\n",
    "    \n",
    "    return results\n",
    "\n",
    "def display_results(results, min_spendings):\n",
    "    if results is None:\n",
    "        print(\"\\nNo feasible solution found. Please check your constraints.\")\n",
    "        return\n",
    "        \n",
    "    print(\"\\nOptimized Budget:\")\n",
    "    print(\"-\" * 50)\n",
    "    \n",
    "    # Print minimized categories first\n",
    "    print(\"Categories to Minimize:\")\n",
    "    total_spent = 0\n",
    "    for category in min_spendings:\n",
    "        if category in results:\n",
    "            amount = results[category]\n",
    "            print(f\"{category}: ₹{amount:,.2f}\")\n",
    "            total_spent += amount\n",
    "    \n",
    "    print(\"\\nOther Categories:\")\n",
    "    # Print other categories\n",
    "    for category, amount in results.items():\n",
    "        if category != \"savings\" and category not in min_spendings:\n",
    "            print(f\"{category}: ₹{amount:,.2f}\")\n",
    "            total_spent += amount\n",
    "    \n",
    "    print(\"-\" * 50)\n",
    "    print(f\"Total Spending: ₹{total_spent:,.2f}\")\n",
    "    print(f\"Savings: ₹{results['savings']:,.2f}\")\n",
    "    print(\"-\" * 50)\n",
    "    print(f\"Total: ₹{(total_spent + results['savings']):,.2f}\")\n",
    "\n",
    "def main():\n",
    "    try:\n",
    "        # Get user inputs\n",
    "        income, expense_dict, min_spendings, savings_goal = user_info()\n",
    "        \n",
    "        # Validate inputs\n",
    "        total_max_spending = sum(expense_dict.values())\n",
    "        if total_max_spending + savings_goal > income:\n",
    "            print(\"\\nError: Your maximum spending limits plus minimum savings exceed your income.\")\n",
    "            print(f\"Total maximum spending: ₹{total_max_spending:,.2f}\")\n",
    "            print(f\"Minimum savings: ₹{savings_goal:,.2f}\")\n",
    "            print(f\"Income: ₹{income:,.2f}\")\n",
    "            print(f\"Deficit: ₹{(total_max_spending + savings_goal - income):,.2f}\")\n",
    "            return\n",
    "        \n",
    "        # Run optimization\n",
    "        results = optimize_budget(income, expense_dict, min_spendings, savings_goal)\n",
    "        \n",
    "        # Display results\n",
    "        display_results(results, min_spendings)\n",
    "        \n",
    "    except Exception as e:\n",
    "        print(f\"\\nAn error occurred: {str(e)}\")\n",
    "        print(\"Please check your inputs and try again.\")\n",
    "\n",
    "if __name__ == \"__main__\":\n",
    "    main()"
   ]
  },
  {
   "cell_type": "code",
   "execution_count": 10,
   "metadata": {},
   "outputs": [
    {
     "data": {
      "text/plain": [
       "2024"
      ]
     },
     "execution_count": 10,
     "metadata": {},
     "output_type": "execute_result"
    }
   ],
   "source": [
    "import datetime\n",
    "year = datetime.datetime.now().year\n",
    "year"
   ]
  },
  {
   "cell_type": "code",
   "execution_count": 18,
   "metadata": {},
   "outputs": [
    {
     "name": "stdout",
     "output_type": "stream",
     "text": [
      "2024-10-30\n"
     ]
    }
   ],
   "source": [
    "print(datetime.date.today())"
   ]
  },
  {
   "cell_type": "code",
   "execution_count": 20,
   "metadata": {},
   "outputs": [],
   "source": [
    "import os\n",
    "os.chdir(\"../\")"
   ]
  },
  {
   "cell_type": "code",
   "execution_count": null,
   "metadata": {},
   "outputs": [
    {
     "name": "stdout",
     "output_type": "stream",
     "text": [
      "(30.0, 20.0, 40.0, 30.0, 40.0, 30.0, 30.0, 20.0, 10.0)\n"
     ]
    }
   ],
   "source": []
  },
  {
   "cell_type": "code",
   "execution_count": 61,
   "metadata": {},
   "outputs": [
    {
     "name": "stdout",
     "output_type": "stream",
     "text": [
      "{'savings': 20.0, 'rent': 40.0, 'groceries': 30.0, 'shopping': 40.0, 'daily_spending': 30.0, 'loan': 30.0, 'bills': 20.0, 'other_expenses': 10.0}\n"
     ]
    }
   ],
   "source": [
    "columns = [\"income\",\"savings\",\"rent\",\"groceries\",\"shopping\",\"daily_spending\",\"loan\",\"bills\",\"other_expenses\"]\n",
    "income = user[0]\n",
    "optimal_budget = {}\n",
    "for i in range(1,len(user)):\n",
    "    optimal_budget[columns[i]] = user[i]\n",
    "print(optimal_budget)"
   ]
  },
  {
   "cell_type": "code",
   "execution_count": 53,
   "metadata": {},
   "outputs": [
    {
     "data": {
      "text/plain": [
       "'income,savings,rent,groceries,shopping,daily_spending,loan,bills,other_expenses'"
      ]
     },
     "execution_count": 53,
     "metadata": {},
     "output_type": "execute_result"
    }
   ],
   "source": [
    "columns = [\"income\",\"savings\",\"rent\",\"groceries\",\"shopping\",\"daily_spending\",\"loan\",\"bills\",\"other_expenses\"]\n",
    "','.join(columns)"
   ]
  },
  {
   "cell_type": "code",
   "execution_count": 67,
   "metadata": {},
   "outputs": [
    {
     "data": {
      "text/plain": [
       "datetime.date(2024, 10, 31)"
      ]
     },
     "execution_count": 67,
     "metadata": {},
     "output_type": "execute_result"
    }
   ],
   "source": [
    "datetime.date.today()"
   ]
  },
  {
   "cell_type": "code",
   "execution_count": 1,
   "metadata": {},
   "outputs": [],
   "source": [
    "from typing import Dict, List, Optional\n",
    "from pulp import *\n",
    "import logging\n",
    "\n",
    "class BudgetOptimizer:\n",
    "    def __init__(self):\n",
    "        self.expense_categories = [\n",
    "            \"Rent\", \"Groceries\", \"Shopping\", \"Daily_spending\",\n",
    "            \"Loan\", \"Bills\", \"Others\"\n",
    "        ]\n",
    "        # Set up logging\n",
    "        logging.basicConfig(level=logging.INFO)\n",
    "        self.logger = logging.getLogger(__name__)\n",
    "        \n",
    "    def validate_inputs(self, income: float, expense_dict: Dict[str, float], \n",
    "                       min_spendings: List[str], savings_goal: float) -> bool:\n",
    "        \"\"\"Validate input parameters before optimization.\"\"\"\n",
    "        try:\n",
    "            # Check if income is positive\n",
    "            if income <= 0:\n",
    "                self.logger.error(\"Income must be positive\")\n",
    "                return False\n",
    "                \n",
    "            # Check if expense dictionary contains valid categories\n",
    "            if not all(category in self.expense_categories for category in expense_dict):\n",
    "                self.logger.error(\"Invalid expense categories found\")\n",
    "                return False\n",
    "                \n",
    "            # Check if minimum spending categories exist in expense dict\n",
    "            if not all(category in expense_dict for category in min_spendings):\n",
    "                self.logger.error(\"Minimum spending categories must exist in expense dictionary\")\n",
    "                return False\n",
    "                \n",
    "            # Check if savings goal + extra savings buffer is feasible\n",
    "            total_min_expenses = sum(amount * 0.3 for category, amount in expense_dict.items() \n",
    "                                   if category in [\"Rent\", \"Groceries\", \"Bills\", \"Loan\"]) + \\\n",
    "                               sum(amount * 0.1 for category, amount in expense_dict.items() \n",
    "                                   if category not in [\"Rent\", \"Groceries\", \"Bills\", \"Loan\"])\n",
    "            if total_min_expenses + savings_goal + 500 > income:\n",
    "                self.logger.error(\"Savings goal plus buffer is not feasible with given constraints\")\n",
    "                return False\n",
    "                \n",
    "            return True\n",
    "            \n",
    "        except Exception as e:\n",
    "            self.logger.error(f\"Input validation failed: {str(e)}\")\n",
    "            return False\n",
    "\n",
    "    def optimize_budget(\n",
    "        self,\n",
    "        income: float,\n",
    "        expense_dict: Dict[str, float],\n",
    "        min_spendings: List[str],\n",
    "        savings_goal: float\n",
    "    ) -> Optional[Dict[str, float]]:\n",
    "        \"\"\"\n",
    "        Optimize budget to maximize savings while respecting expense constraints\n",
    "        \n",
    "        Args:\n",
    "            income: Total monthly income\n",
    "            expense_dict: Dictionary of expense categories and their maximum amounts\n",
    "            min_spendings: List of expense categories to minimize\n",
    "            savings_goal: Minimum required savings\n",
    "        \n",
    "        Returns:\n",
    "            dict: Optimized spending amounts for each category and savings\n",
    "        \"\"\"\n",
    "        try:\n",
    "            # Validate inputs\n",
    "            if not self.validate_inputs(income, expense_dict, min_spendings, savings_goal):\n",
    "                return None\n",
    "\n",
    "            # Create the optimization problem\n",
    "            prob = LpProblem(\"Budget_Optimization\", LpMinimize)\n",
    "            \n",
    "            # Create decision variables for each expense category\n",
    "            spending_vars = {}\n",
    "            for category, max_amount in expense_dict.items():\n",
    "                if max_amount > 0:\n",
    "                    spending_vars[category] = LpVariable(f\"spend_{category}\", 0, max_amount)\n",
    "            \n",
    "            # Create savings variable with upper bound of savings_goal + 500\n",
    "            savings = LpVariable(\"savings\", savings_goal, income)\n",
    "            \n",
    "            # Objective: Maximize savings while minimizing selected categories\n",
    "            optimization_expr = savings - 0.01 * lpSum(\n",
    "                spending_vars[category] for category in min_spendings if category in spending_vars\n",
    "            )\n",
    "            prob += optimization_expr\n",
    "            \n",
    "            # Constraint: Total spending + savings must equal income\n",
    "            prob += lpSum(spending_vars.values()) + savings == income, \"Income_Balance\"\n",
    "            \n",
    "            # Minimum spending constraints\n",
    "            essential_categories = [\"Rent\", \"Groceries\", \"Bills\", \"Loan\"]\n",
    "            for category in spending_vars:\n",
    "                if category in essential_categories:\n",
    "                    min_amount = expense_dict[category] * 0.3  # 30% of maximum for essential\n",
    "                    prob += spending_vars[category] >= min_amount, f\"Min_{category}\"\n",
    "                else:\n",
    "                    min_amount = expense_dict[category] * 0.1  # 10% of maximum for non-essential\n",
    "                    prob += spending_vars[category] >= min_amount, f\"Min_{category}\"\n",
    "            \n",
    "            # Solve the problem\n",
    "            solver = PULP_CBC_CMD(msg=False)\n",
    "            status = prob.solve(solver)\n",
    "            \n",
    "            if status != 1:\n",
    "                self.logger.error(f\"Optimization failed with status: {status}\")\n",
    "                return None\n",
    "            \n",
    "            # Get results\n",
    "            results = {\"Savings\": value(savings)}\n",
    "            for category, var in spending_vars.items():\n",
    "                results[category] = round(value(var), 2)\n",
    "            \n",
    "            # Add zero values for categories that weren't included\n",
    "            for category in expense_dict:\n",
    "                if category not in results:\n",
    "                    results[category] = 0\n",
    "            \n",
    "            self.logger.info(\"Budget optimization completed successfully\")\n",
    "            return results\n",
    "            \n",
    "        except Exception as e:\n",
    "            self.logger.error(f\"Budget optimization failed: {str(e)}\")\n",
    "            return None"
   ]
  },
  {
   "cell_type": "code",
   "execution_count": 15,
   "metadata": {},
   "outputs": [
    {
     "name": "stdout",
     "output_type": "stream",
     "text": [
      "{'Savings': 1000.0, 'Rent': 30000.0, 'Groceries': 5000.0, 'Shopping': 600.0, 'Daily_spending': 1800.0, 'Loan': 1000.0, 'Bills': 600.0, 'Others': 0}\n"
     ]
    }
   ],
   "source": [
    "# from utils.optimal_budget_utils import BudgetOptimizer\n",
    "income = 40000\n",
    "expenses_dict = {\n",
    "    \"Rent\":30000,\n",
    "    \"Groceries\": 6000,\n",
    "    \"Shopping\": 1000,\n",
    "    \"Daily_spending\": 1800,\n",
    "    \"Loan\": 1000,\n",
    "    \"Bills\": 600,\n",
    "    \"Others\":0\n",
    "}\n",
    "savings = 1000\n",
    "min_spendings = [\"Groceries\", \"Shopping\", \"Daily_spending\"]\n",
    "bo = BudgetOptimizer()\n",
    "results = bo.optimize_budget(income=income,expense_dict=expenses_dict,min_spendings=min_spendings,savings_goal=savings)\n",
    "print(results)"
   ]
  },
  {
   "cell_type": "code",
   "execution_count": 47,
   "metadata": {},
   "outputs": [],
   "source": [
    "\n",
    "class BudgetOptimizer:\n",
    "    def __init__(self):\n",
    "        self.expense_categories = [\n",
    "            \"Rent\", \"Groceries\", \"Shopping\", \"Daily_spending\",\n",
    "            \"Loan\", \"Bills\", \"Others\"\n",
    "        ]\n",
    "        \n",
    "    def optimize_budget(\n",
    "        self,\n",
    "        income: float,\n",
    "        expense_dict: Dict[str, float],\n",
    "        min_spendings: List[str],\n",
    "        savings_goal: float\n",
    "    ) -> Optional[Dict[str, float]]:\n",
    "        \"\"\"\n",
    "        Optimize budget to maximize savings while respecting expense constraints\n",
    "        \n",
    "        Args:\n",
    "            income: Total monthly income\n",
    "            expense_dict: Dictionary of expense categories and their maximum amounts\n",
    "            min_spendings: List of expense categories to minimize\n",
    "            savings_goal: Minimum required savings\n",
    "        \n",
    "        Returns:\n",
    "            dict: Optimized spending amounts for each category and savings\n",
    "        \"\"\"\n",
    "        # Create the optimization problem\n",
    "        prob = LpProblem(\"Budget_Optimization\", LpMaximize)\n",
    "        \n",
    "        # Create decision variables for each expense category\n",
    "        spending_vars = {}\n",
    "        for category, max_amount in expense_dict.items():\n",
    "            if max_amount > 0:\n",
    "                spending_vars[category] = LpVariable(f\"spend_{category}\", 0, max_amount)\n",
    "        \n",
    "        # Create savings variable\n",
    "        savings = LpVariable(\"savings\", savings_goal)  # Allow for higher savings\n",
    "        \n",
    "        # Objective: Maximize savings while minimizing selected categories\n",
    "        optimization_expr = savings - 0.01 * lpSum(\n",
    "            spending_vars[category] for category in min_spendings if category in spending_vars\n",
    "        )\n",
    "        prob += optimization_expr\n",
    "        \n",
    "        # Constraint: Total spending + savings must equal income\n",
    "        prob += lpSum(spending_vars.values()) + savings == income\n",
    "        \n",
    "        # Minimum spending constraints\n",
    "        essential_categories = [\"Rent\", \"Groceries\", \"Bills\", \"Loan\"]\n",
    "        for category in spending_vars:\n",
    "            if category in essential_categories:\n",
    "                min_amount = expense_dict[category]   # 30% of maximum for essential\n",
    "                prob += spending_vars[category] >= min_amount\n",
    "            else:\n",
    "                min_amount = expense_dict[category] *0.5  # 10% of maximum for non-essential\n",
    "                prob += spending_vars[category] >= min_amount\n",
    "        \n",
    "        # Solve the problem\n",
    "        status = prob.solve(PULP_CBC_CMD(msg=False))\n",
    "        \n",
    "        if status != 1:\n",
    "            return None\n",
    "        \n",
    "        # Get results\n",
    "        results = {\"Savings\": value(savings)}\n",
    "        for category, var in spending_vars.items():\n",
    "            results[category] = round(value(var), 2)\n",
    "        \n",
    "        # Add zero values for categories that weren't included\n",
    "        for category in expense_dict:\n",
    "            if category not in results:\n",
    "                results[category] = 0\n",
    "                \n",
    "        return results"
   ]
  },
  {
   "cell_type": "code",
   "execution_count": 48,
   "metadata": {},
   "outputs": [
    {
     "name": "stdout",
     "output_type": "stream",
     "text": [
      "{'Savings': 3450.0, 'Rent': 23200.0, 'Groceries': 5000.0, 'Shopping': 2000.0, 'Daily_spending': 900.0, 'Loan': 2900.0, 'Bills': 2000.0, 'Others': 550.0}\n"
     ]
    }
   ],
   "source": [
    "# from utils.optimal_budget_utils import BudgetOptimizer\n",
    "income = 40000\n",
    "expenses_dict = {\n",
    "    \"Rent\":23200,\n",
    "    \"Groceries\": 5000,\n",
    "    \"Shopping\": 4000,\n",
    "    \"Daily_spending\": 1800,\n",
    "    \"Loan\": 2900,\n",
    "    \"Bills\": 2000,\n",
    "    \"Others\":1100\n",
    "}\n",
    "savings = 1000\n",
    "min_spendings = [\"Others\", \"Shopping\", \"Daily_spending\"]\n",
    "bo = BudgetOptimizer()\n",
    "results = bo.optimize_budget(income=income,expense_dict=expenses_dict,min_spendings=min_spendings,savings_goal=savings)\n",
    "print(results)"
   ]
  },
  {
   "cell_type": "code",
   "execution_count": 50,
   "metadata": {},
   "outputs": [],
   "source": [
    "dict1 = {'x1':2,'x2':3}\n",
    "dict2 = {'x1':1,'x2':2}\n",
    "for i in dict1:\n",
    "    dict1[i]+=dict2[i]"
   ]
  },
  {
   "cell_type": "code",
   "execution_count": 51,
   "metadata": {},
   "outputs": [
    {
     "data": {
      "text/plain": [
       "{'x1': 3, 'x2': 5}"
      ]
     },
     "execution_count": 51,
     "metadata": {},
     "output_type": "execute_result"
    }
   ],
   "source": [
    "dict1"
   ]
  },
  {
   "cell_type": "code",
   "execution_count": 3,
   "metadata": {},
   "outputs": [],
   "source": [
    "import os \n",
    "os.chdir('../')"
   ]
  },
  {
   "cell_type": "code",
   "execution_count": null,
   "metadata": {},
   "outputs": [],
   "source": []
  },
  {
   "cell_type": "code",
   "execution_count": null,
   "metadata": {},
   "outputs": [
    {
     "data": {
      "text/plain": [
       "[(11400.0, 0.0, 0.0, 0.0, 0.0, 0.0, 0.0, 2024, 11)]"
      ]
     },
     "execution_count": 15,
     "metadata": {},
     "output_type": "execute_result"
    }
   ],
   "source": []
  },
  {
   "cell_type": "code",
   "execution_count": null,
   "metadata": {},
   "outputs": [],
   "source": []
  }
 ],
 "metadata": {
  "kernelspec": {
   "display_name": "Python 3",
   "language": "python",
   "name": "python3"
  },
  "language_info": {
   "codemirror_mode": {
    "name": "ipython",
    "version": 3
   },
   "file_extension": ".py",
   "mimetype": "text/x-python",
   "name": "python",
   "nbconvert_exporter": "python",
   "pygments_lexer": "ipython3",
   "version": "3.10.15"
  }
 },
 "nbformat": 4,
 "nbformat_minor": 2
}
